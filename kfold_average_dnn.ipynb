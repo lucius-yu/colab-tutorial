{
  "nbformat": 4,
  "nbformat_minor": 0,
  "metadata": {
    "colab": {
      "name": "Untitled2.ipynb",
      "version": "0.3.2",
      "provenance": [],
      "include_colab_link": true
    },
    "kernelspec": {
      "name": "python3",
      "display_name": "Python 3"
    }
  },
  "cells": [
    {
      "cell_type": "markdown",
      "metadata": {
        "id": "view-in-github",
        "colab_type": "text"
      },
      "source": [
        "<a href=\"https://colab.research.google.com/github/lucius-yu/colab-tutorial/blob/master/kfold_average_dnn.ipynb\" target=\"_parent\"><img src=\"https://colab.research.google.com/assets/colab-badge.svg\" alt=\"Open In Colab\"/></a>"
      ]
    },
    {
      "metadata": {
        "id": "36YDxnK1lrIZ",
        "colab_type": "text"
      },
      "cell_type": "markdown",
      "source": [
        "KFlod Average on DNN for fashion mnist problem"
      ]
    },
    {
      "metadata": {
        "id": "lB3GSOXmmJkw",
        "colab_type": "text"
      },
      "cell_type": "markdown",
      "source": [
        "Import liberary"
      ]
    },
    {
      "metadata": {
        "id": "eRzv1gDPl1rS",
        "colab_type": "code",
        "colab": {}
      },
      "cell_type": "code",
      "source": [
        "import tensorflow as tf\n",
        "import numpy as np\n",
        "import matplotlib as mpl\n",
        "import matplotlib.pyplot as plt\n",
        "from sklearn.model_selection import KFold, StratifiedKFold\n",
        "from sklearn.metrics import log_loss, accuracy_score"
      ],
      "execution_count": 0,
      "outputs": []
    },
    {
      "metadata": {
        "id": "IbNRQKbfmR6I",
        "colab_type": "text"
      },
      "cell_type": "markdown",
      "source": [
        "Load the data, preprocess the data, setup KFold CV"
      ]
    },
    {
      "metadata": {
        "id": "OfFCtNGkmZRf",
        "colab_type": "code",
        "outputId": "51e9ef9c-38ba-4c13-f2dd-a72299ad4b8d",
        "colab": {
          "base_uri": "https://localhost:8080/",
          "height": 158
        }
      },
      "cell_type": "code",
      "source": [
        "mnist = tf.keras.datasets.fashion_mnist\n",
        "\n",
        "# load data\n",
        "(training_images, training_labels), (test_images, test_labels) = mnist.load_data()\n",
        "\n",
        "# normalization\n",
        "training_images  = training_images / 255.0\n",
        "test_images = test_images / 255.0"
      ],
      "execution_count": 2,
      "outputs": [
        {
          "output_type": "stream",
          "text": [
            "Downloading data from https://storage.googleapis.com/tensorflow/tf-keras-datasets/train-labels-idx1-ubyte.gz\n",
            "32768/29515 [=================================] - 0s 0us/step\n",
            "Downloading data from https://storage.googleapis.com/tensorflow/tf-keras-datasets/train-images-idx3-ubyte.gz\n",
            "26427392/26421880 [==============================] - 0s 0us/step\n",
            "Downloading data from https://storage.googleapis.com/tensorflow/tf-keras-datasets/t10k-labels-idx1-ubyte.gz\n",
            "8192/5148 [===============================================] - 0s 0us/step\n",
            "Downloading data from https://storage.googleapis.com/tensorflow/tf-keras-datasets/t10k-images-idx3-ubyte.gz\n",
            "4423680/4422102 [==============================] - 0s 0us/step\n"
          ],
          "name": "stdout"
        }
      ]
    },
    {
      "metadata": {
        "id": "4N21PtV8nE8R",
        "colab_type": "text"
      },
      "cell_type": "markdown",
      "source": [
        "Build the model"
      ]
    },
    {
      "metadata": {
        "id": "y1mtSaTanI3P",
        "colab_type": "code",
        "colab": {}
      },
      "cell_type": "code",
      "source": [
        "def get_model(layers=[128,128],dropout=0.0, lr=0.0005):\n",
        "  # construct the model\n",
        "  model = tf.keras.Sequential()\n",
        "  # add flatten layer, flatten 2-dim data into 1-dim vector\n",
        "  model.add(tf.keras.layers.Flatten())\n",
        "  # add middle layer\n",
        "  for num_units in layers:\n",
        "    model.add(tf.keras.layers.Dense(num_units, activation='relu'))\n",
        "    if dropout>0:\n",
        "      model.add(tf.keras.layers.Dropout(rate=dropout))\n",
        "      \n",
        "  # add output layer, i.e. 10 class softmax\n",
        "  model.add(tf.keras.layers.Dense(10, activation=tf.nn.softmax))\n",
        "  \n",
        "  # compile\n",
        "  model.compile(optimizer = tf.train.AdamOptimizer(learning_rate=lr),\n",
        "                loss = 'sparse_categorical_crossentropy',\n",
        "                metrics=['accuracy'])\n",
        "  return model"
      ],
      "execution_count": 0,
      "outputs": []
    },
    {
      "metadata": {
        "id": "ewIIHlOznc9Y",
        "colab_type": "text"
      },
      "cell_type": "markdown",
      "source": [
        "Train KFold Model"
      ]
    },
    {
      "metadata": {
        "id": "6z--ikFwnmhp",
        "colab_type": "code",
        "outputId": "2bb15139-a73e-443c-ea3d-63918bb6b0b6",
        "colab": {
          "base_uri": "https://localhost:8080/",
          "height": 6320
        }
      },
      "cell_type": "code",
      "source": [
        "# setup cv\n",
        "skf = StratifiedKFold(n_splits=5)\n",
        "\n",
        "# variables\n",
        "num_epochs=40\n",
        "\n",
        "# predictions\n",
        "test_preds = list()\n",
        "\n",
        "# history\n",
        "train_history = list()\n",
        "\n",
        "# early stopping\n",
        "callbacks = [tf.keras.callbacks.EarlyStopping(patience=10, monitor='val_loss', restore_best_weights=True),]\n",
        "\n",
        "for train_index, validation_index in skf.split(training_images, training_labels):\n",
        "  print(\"TRAIN:\", len(train_index), \"Validation:\", len(validation_index))\n",
        "  \n",
        "  X_train, X_valid = training_images[train_index], training_images[validation_index]\n",
        "  y_train, y_valid = training_labels[train_index], training_labels[validation_index]\n",
        "  \n",
        "  dnn_model = get_model(dropout=0.0)\n",
        "  history = dnn_model.fit(X_train, y_train, validation_data=(X_valid, y_valid), callbacks=[], epochs=num_epochs)\n",
        "  train_history.append(history)\n",
        "  \n",
        "  # evaluate on test images\n",
        "  dnn_model.evaluate(test_images, test_labels)\n",
        "  \n",
        "  # record test_preds\n",
        "  test_preds.append(dnn_model.predict(test_images, batch_size=128))"
      ],
      "execution_count": 14,
      "outputs": [
        {
          "output_type": "stream",
          "text": [
            "TRAIN: 48000 Validation: 12000\n",
            "Train on 48000 samples, validate on 12000 samples\n",
            "Epoch 1/40\n",
            "48000/48000 [==============================] - 7s 139us/sample - loss: 0.6423 - acc: 0.7722 - val_loss: 0.4193 - val_acc: 0.8478\n",
            "Epoch 2/40\n",
            "48000/48000 [==============================] - 6s 129us/sample - loss: 0.4490 - acc: 0.8388 - val_loss: 0.3852 - val_acc: 0.8572\n",
            "Epoch 3/40\n",
            "48000/48000 [==============================] - 6s 126us/sample - loss: 0.4070 - acc: 0.8512 - val_loss: 0.3689 - val_acc: 0.8644\n",
            "Epoch 4/40\n",
            "48000/48000 [==============================] - 6s 128us/sample - loss: 0.3802 - acc: 0.8606 - val_loss: 0.3357 - val_acc: 0.8767\n",
            "Epoch 5/40\n",
            "48000/48000 [==============================] - 6s 123us/sample - loss: 0.3614 - acc: 0.8681 - val_loss: 0.3259 - val_acc: 0.8812\n",
            "Epoch 6/40\n",
            "48000/48000 [==============================] - 6s 123us/sample - loss: 0.3487 - acc: 0.8699 - val_loss: 0.3360 - val_acc: 0.8765\n",
            "Epoch 7/40\n",
            "48000/48000 [==============================] - 6s 122us/sample - loss: 0.3368 - acc: 0.8740 - val_loss: 0.3255 - val_acc: 0.8806\n",
            "Epoch 8/40\n",
            "48000/48000 [==============================] - 6s 121us/sample - loss: 0.3267 - acc: 0.8793 - val_loss: 0.3161 - val_acc: 0.8873\n",
            "Epoch 9/40\n",
            "48000/48000 [==============================] - 6s 124us/sample - loss: 0.3214 - acc: 0.8817 - val_loss: 0.3123 - val_acc: 0.8867\n",
            "Epoch 10/40\n",
            "48000/48000 [==============================] - 6s 120us/sample - loss: 0.3111 - acc: 0.8849 - val_loss: 0.3104 - val_acc: 0.8842\n",
            "Epoch 11/40\n",
            "48000/48000 [==============================] - 6s 122us/sample - loss: 0.3050 - acc: 0.8885 - val_loss: 0.3054 - val_acc: 0.8873\n",
            "Epoch 12/40\n",
            "48000/48000 [==============================] - 6s 125us/sample - loss: 0.2964 - acc: 0.8897 - val_loss: 0.2963 - val_acc: 0.8953\n",
            "Epoch 13/40\n",
            "48000/48000 [==============================] - 6s 129us/sample - loss: 0.2906 - acc: 0.8913 - val_loss: 0.3015 - val_acc: 0.8907\n",
            "Epoch 14/40\n",
            "48000/48000 [==============================] - 6s 128us/sample - loss: 0.2894 - acc: 0.8923 - val_loss: 0.2914 - val_acc: 0.8958\n",
            "Epoch 15/40\n",
            "48000/48000 [==============================] - 6s 126us/sample - loss: 0.2845 - acc: 0.8938 - val_loss: 0.3024 - val_acc: 0.8907\n",
            "Epoch 16/40\n",
            "48000/48000 [==============================] - 6s 126us/sample - loss: 0.2745 - acc: 0.8967 - val_loss: 0.2977 - val_acc: 0.8931\n",
            "Epoch 17/40\n",
            "48000/48000 [==============================] - 6s 128us/sample - loss: 0.2716 - acc: 0.8981 - val_loss: 0.2973 - val_acc: 0.8908\n",
            "Epoch 18/40\n",
            "48000/48000 [==============================] - 6s 127us/sample - loss: 0.2689 - acc: 0.8984 - val_loss: 0.2945 - val_acc: 0.8930\n",
            "Epoch 19/40\n",
            "48000/48000 [==============================] - 6s 127us/sample - loss: 0.2622 - acc: 0.9020 - val_loss: 0.2885 - val_acc: 0.8972\n",
            "Epoch 20/40\n",
            "48000/48000 [==============================] - 6s 127us/sample - loss: 0.2596 - acc: 0.9013 - val_loss: 0.3051 - val_acc: 0.8901\n",
            "Epoch 21/40\n",
            "48000/48000 [==============================] - 6s 123us/sample - loss: 0.2562 - acc: 0.9032 - val_loss: 0.2872 - val_acc: 0.8967\n",
            "Epoch 22/40\n",
            "48000/48000 [==============================] - 6s 122us/sample - loss: 0.2548 - acc: 0.9035 - val_loss: 0.2950 - val_acc: 0.8949\n",
            "Epoch 23/40\n",
            "48000/48000 [==============================] - 6s 122us/sample - loss: 0.2507 - acc: 0.9051 - val_loss: 0.2882 - val_acc: 0.8981\n",
            "Epoch 24/40\n",
            "48000/48000 [==============================] - 6s 122us/sample - loss: 0.2477 - acc: 0.9072 - val_loss: 0.2894 - val_acc: 0.8988\n",
            "Epoch 25/40\n",
            "48000/48000 [==============================] - 6s 121us/sample - loss: 0.2467 - acc: 0.9063 - val_loss: 0.3094 - val_acc: 0.8934\n",
            "Epoch 26/40\n",
            "48000/48000 [==============================] - 6s 122us/sample - loss: 0.2429 - acc: 0.9084 - val_loss: 0.2955 - val_acc: 0.8960\n",
            "Epoch 27/40\n",
            "48000/48000 [==============================] - 6s 127us/sample - loss: 0.2396 - acc: 0.9096 - val_loss: 0.2942 - val_acc: 0.8956\n",
            "Epoch 28/40\n",
            "48000/48000 [==============================] - 6s 132us/sample - loss: 0.2378 - acc: 0.9089 - val_loss: 0.2922 - val_acc: 0.8995\n",
            "Epoch 29/40\n",
            "48000/48000 [==============================] - 6s 132us/sample - loss: 0.2334 - acc: 0.9118 - val_loss: 0.2898 - val_acc: 0.8985\n",
            "Epoch 30/40\n",
            "48000/48000 [==============================] - 6s 127us/sample - loss: 0.2328 - acc: 0.9133 - val_loss: 0.2901 - val_acc: 0.9007\n",
            "Epoch 31/40\n",
            "48000/48000 [==============================] - 6s 134us/sample - loss: 0.2307 - acc: 0.9122 - val_loss: 0.3254 - val_acc: 0.8879\n",
            "10000/10000 [==============================] - 1s 57us/sample - loss: 0.3194 - acc: 0.8860\n",
            "TRAIN: 48000 Validation: 12000\n",
            "Train on 48000 samples, validate on 12000 samples\n",
            "Epoch 1/40\n",
            "48000/48000 [==============================] - 7s 139us/sample - loss: 0.6467 - acc: 0.7717 - val_loss: 0.4351 - val_acc: 0.8456\n",
            "Epoch 2/40\n",
            "48000/48000 [==============================] - 6s 128us/sample - loss: 0.4455 - acc: 0.8399 - val_loss: 0.3871 - val_acc: 0.8548\n",
            "Epoch 3/40\n",
            "48000/48000 [==============================] - 6s 127us/sample - loss: 0.4049 - acc: 0.8559 - val_loss: 0.3683 - val_acc: 0.8614\n",
            "Epoch 4/40\n",
            "48000/48000 [==============================] - 6s 128us/sample - loss: 0.3782 - acc: 0.8612 - val_loss: 0.3711 - val_acc: 0.8627\n",
            "Epoch 5/40\n",
            "48000/48000 [==============================] - 6s 130us/sample - loss: 0.3592 - acc: 0.8690 - val_loss: 0.3425 - val_acc: 0.8732\n",
            "Epoch 6/40\n",
            "48000/48000 [==============================] - 6s 133us/sample - loss: 0.3504 - acc: 0.8735 - val_loss: 0.3418 - val_acc: 0.8700\n",
            "Epoch 7/40\n",
            "48000/48000 [==============================] - 6s 134us/sample - loss: 0.3375 - acc: 0.8749 - val_loss: 0.3399 - val_acc: 0.8740\n",
            "Epoch 8/40\n",
            "48000/48000 [==============================] - 6s 132us/sample - loss: 0.3272 - acc: 0.8797 - val_loss: 0.3359 - val_acc: 0.8711\n",
            "Epoch 9/40\n",
            "48000/48000 [==============================] - 6s 127us/sample - loss: 0.3158 - acc: 0.8839 - val_loss: 0.3142 - val_acc: 0.8829\n",
            "Epoch 10/40\n",
            "48000/48000 [==============================] - 6s 129us/sample - loss: 0.3091 - acc: 0.8859 - val_loss: 0.3294 - val_acc: 0.8760\n",
            "Epoch 11/40\n",
            "48000/48000 [==============================] - 6s 126us/sample - loss: 0.2992 - acc: 0.8894 - val_loss: 0.3071 - val_acc: 0.8869\n",
            "Epoch 12/40\n",
            "48000/48000 [==============================] - 6s 128us/sample - loss: 0.2971 - acc: 0.8907 - val_loss: 0.3204 - val_acc: 0.8811\n",
            "Epoch 13/40\n",
            "48000/48000 [==============================] - 6s 132us/sample - loss: 0.2895 - acc: 0.8919 - val_loss: 0.3251 - val_acc: 0.8788\n",
            "Epoch 14/40\n",
            "48000/48000 [==============================] - 7s 139us/sample - loss: 0.2830 - acc: 0.8945 - val_loss: 0.3126 - val_acc: 0.8842\n",
            "Epoch 15/40\n",
            "48000/48000 [==============================] - 6s 124us/sample - loss: 0.2790 - acc: 0.8976 - val_loss: 0.3112 - val_acc: 0.8839\n",
            "Epoch 16/40\n",
            "48000/48000 [==============================] - 6s 125us/sample - loss: 0.2740 - acc: 0.8968 - val_loss: 0.3251 - val_acc: 0.8791\n",
            "Epoch 17/40\n",
            "48000/48000 [==============================] - 6s 126us/sample - loss: 0.2715 - acc: 0.8989 - val_loss: 0.3064 - val_acc: 0.8857\n",
            "Epoch 18/40\n",
            "48000/48000 [==============================] - 6s 124us/sample - loss: 0.2663 - acc: 0.9011 - val_loss: 0.3002 - val_acc: 0.8878\n",
            "Epoch 19/40\n",
            "48000/48000 [==============================] - 6s 124us/sample - loss: 0.2623 - acc: 0.9009 - val_loss: 0.3090 - val_acc: 0.8862\n",
            "Epoch 20/40\n",
            "48000/48000 [==============================] - 6s 123us/sample - loss: 0.2573 - acc: 0.9021 - val_loss: 0.2995 - val_acc: 0.8900\n",
            "Epoch 21/40\n",
            "48000/48000 [==============================] - 6s 124us/sample - loss: 0.2540 - acc: 0.9054 - val_loss: 0.3166 - val_acc: 0.8848\n",
            "Epoch 22/40\n",
            "48000/48000 [==============================] - 6s 123us/sample - loss: 0.2515 - acc: 0.9059 - val_loss: 0.3048 - val_acc: 0.8876\n",
            "Epoch 23/40\n",
            "48000/48000 [==============================] - 6s 123us/sample - loss: 0.2492 - acc: 0.9064 - val_loss: 0.2945 - val_acc: 0.8945\n",
            "Epoch 24/40\n",
            "48000/48000 [==============================] - 6s 123us/sample - loss: 0.2467 - acc: 0.9069 - val_loss: 0.2984 - val_acc: 0.8911\n",
            "Epoch 25/40\n",
            "48000/48000 [==============================] - 6s 123us/sample - loss: 0.2443 - acc: 0.9081 - val_loss: 0.3015 - val_acc: 0.8913\n",
            "Epoch 26/40\n",
            "48000/48000 [==============================] - 6s 120us/sample - loss: 0.2408 - acc: 0.9102 - val_loss: 0.3063 - val_acc: 0.8885\n",
            "Epoch 27/40\n",
            "48000/48000 [==============================] - 6s 123us/sample - loss: 0.2368 - acc: 0.9120 - val_loss: 0.3066 - val_acc: 0.8873\n",
            "Epoch 28/40\n",
            "48000/48000 [==============================] - 6s 123us/sample - loss: 0.2390 - acc: 0.9100 - val_loss: 0.2976 - val_acc: 0.8917\n",
            "Epoch 29/40\n",
            "48000/48000 [==============================] - 6s 123us/sample - loss: 0.2322 - acc: 0.9115 - val_loss: 0.3011 - val_acc: 0.8916\n",
            "Epoch 30/40\n",
            "48000/48000 [==============================] - 6s 124us/sample - loss: 0.2301 - acc: 0.9131 - val_loss: 0.3006 - val_acc: 0.8922\n",
            "Epoch 31/40\n",
            "48000/48000 [==============================] - 6s 123us/sample - loss: 0.2268 - acc: 0.9135 - val_loss: 0.2990 - val_acc: 0.8942\n",
            "Epoch 32/40\n",
            "48000/48000 [==============================] - 6s 128us/sample - loss: 0.2269 - acc: 0.9150 - val_loss: 0.3046 - val_acc: 0.8902\n",
            "Epoch 33/40\n",
            "48000/48000 [==============================] - 6s 135us/sample - loss: 0.2234 - acc: 0.9165 - val_loss: 0.3031 - val_acc: 0.8911\n",
            "10000/10000 [==============================] - 1s 58us/sample - loss: 0.3202 - acc: 0.8878\n",
            "TRAIN: 48000 Validation: 12000\n",
            "Train on 48000 samples, validate on 12000 samples\n",
            "Epoch 1/40\n",
            "48000/48000 [==============================] - 7s 144us/sample - loss: 0.6456 - acc: 0.7711 - val_loss: 0.4349 - val_acc: 0.8423\n",
            "Epoch 2/40\n",
            "48000/48000 [==============================] - 6s 131us/sample - loss: 0.4465 - acc: 0.8399 - val_loss: 0.3839 - val_acc: 0.8608\n",
            "Epoch 3/40\n",
            "48000/48000 [==============================] - 6s 131us/sample - loss: 0.4066 - acc: 0.8507 - val_loss: 0.3588 - val_acc: 0.8702\n",
            "Epoch 4/40\n",
            "48000/48000 [==============================] - 6s 130us/sample - loss: 0.3821 - acc: 0.8614 - val_loss: 0.3483 - val_acc: 0.8744\n",
            "Epoch 5/40\n",
            "48000/48000 [==============================] - 6s 129us/sample - loss: 0.3675 - acc: 0.8654 - val_loss: 0.3580 - val_acc: 0.8641\n",
            "Epoch 6/40\n",
            "48000/48000 [==============================] - 6s 129us/sample - loss: 0.3513 - acc: 0.8723 - val_loss: 0.3295 - val_acc: 0.8774\n",
            "Epoch 7/40\n",
            "48000/48000 [==============================] - 6s 130us/sample - loss: 0.3405 - acc: 0.8767 - val_loss: 0.3310 - val_acc: 0.8780\n",
            "Epoch 8/40\n",
            "48000/48000 [==============================] - 6s 129us/sample - loss: 0.3285 - acc: 0.8792 - val_loss: 0.3232 - val_acc: 0.8838\n",
            "Epoch 9/40\n",
            "48000/48000 [==============================] - 6s 127us/sample - loss: 0.3171 - acc: 0.8825 - val_loss: 0.3146 - val_acc: 0.8873\n",
            "Epoch 10/40\n",
            "48000/48000 [==============================] - 6s 129us/sample - loss: 0.3117 - acc: 0.8854 - val_loss: 0.3115 - val_acc: 0.8863\n",
            "Epoch 11/40\n",
            "48000/48000 [==============================] - 6s 130us/sample - loss: 0.3057 - acc: 0.8864 - val_loss: 0.3074 - val_acc: 0.8883\n",
            "Epoch 12/40\n",
            "48000/48000 [==============================] - 6s 131us/sample - loss: 0.2988 - acc: 0.8908 - val_loss: 0.3223 - val_acc: 0.8845\n",
            "Epoch 13/40\n",
            "48000/48000 [==============================] - 6s 130us/sample - loss: 0.2950 - acc: 0.8899 - val_loss: 0.3035 - val_acc: 0.8873\n",
            "Epoch 14/40\n",
            "48000/48000 [==============================] - 6s 127us/sample - loss: 0.2873 - acc: 0.8924 - val_loss: 0.3023 - val_acc: 0.8932\n",
            "Epoch 15/40\n",
            "48000/48000 [==============================] - 6s 129us/sample - loss: 0.2828 - acc: 0.8947 - val_loss: 0.2996 - val_acc: 0.8942\n",
            "Epoch 16/40\n",
            "48000/48000 [==============================] - 6s 127us/sample - loss: 0.2776 - acc: 0.8960 - val_loss: 0.2958 - val_acc: 0.8928\n",
            "Epoch 17/40\n",
            "48000/48000 [==============================] - 6s 127us/sample - loss: 0.2760 - acc: 0.8959 - val_loss: 0.3103 - val_acc: 0.8882\n",
            "Epoch 18/40\n",
            "48000/48000 [==============================] - 6s 126us/sample - loss: 0.2680 - acc: 0.8997 - val_loss: 0.3135 - val_acc: 0.8863\n",
            "Epoch 19/40\n",
            "48000/48000 [==============================] - 6s 125us/sample - loss: 0.2654 - acc: 0.8998 - val_loss: 0.2914 - val_acc: 0.8963\n",
            "Epoch 20/40\n",
            "48000/48000 [==============================] - 6s 127us/sample - loss: 0.2636 - acc: 0.9008 - val_loss: 0.2946 - val_acc: 0.8942\n",
            "Epoch 21/40\n",
            "48000/48000 [==============================] - 6s 126us/sample - loss: 0.2575 - acc: 0.9033 - val_loss: 0.3019 - val_acc: 0.8921\n",
            "Epoch 22/40\n",
            "48000/48000 [==============================] - 6s 128us/sample - loss: 0.2584 - acc: 0.9019 - val_loss: 0.2892 - val_acc: 0.8981\n",
            "Epoch 23/40\n",
            "48000/48000 [==============================] - 6s 135us/sample - loss: 0.2522 - acc: 0.9044 - val_loss: 0.3057 - val_acc: 0.8911\n",
            "Epoch 24/40\n",
            "48000/48000 [==============================] - 6s 128us/sample - loss: 0.2510 - acc: 0.9052 - val_loss: 0.2926 - val_acc: 0.8977\n",
            "Epoch 25/40\n",
            "48000/48000 [==============================] - 6s 127us/sample - loss: 0.2431 - acc: 0.9085 - val_loss: 0.2895 - val_acc: 0.8959\n",
            "Epoch 26/40\n",
            "48000/48000 [==============================] - 6s 128us/sample - loss: 0.2432 - acc: 0.9074 - val_loss: 0.2867 - val_acc: 0.8982\n",
            "Epoch 27/40\n",
            "48000/48000 [==============================] - 6s 128us/sample - loss: 0.2401 - acc: 0.9102 - val_loss: 0.2975 - val_acc: 0.8965\n",
            "Epoch 28/40\n",
            "48000/48000 [==============================] - 6s 126us/sample - loss: 0.2389 - acc: 0.9093 - val_loss: 0.2975 - val_acc: 0.8953\n",
            "Epoch 29/40\n",
            "48000/48000 [==============================] - 6s 126us/sample - loss: 0.2355 - acc: 0.9122 - val_loss: 0.3012 - val_acc: 0.8980\n",
            "Epoch 30/40\n",
            "48000/48000 [==============================] - 6s 132us/sample - loss: 0.2350 - acc: 0.9111 - val_loss: 0.3000 - val_acc: 0.8970\n",
            "Epoch 31/40\n",
            "48000/48000 [==============================] - 7s 140us/sample - loss: 0.2318 - acc: 0.9124 - val_loss: 0.3040 - val_acc: 0.8914\n",
            "Epoch 32/40\n",
            "48000/48000 [==============================] - 6s 130us/sample - loss: 0.2302 - acc: 0.9124 - val_loss: 0.2969 - val_acc: 0.8985\n",
            "Epoch 33/40\n",
            "48000/48000 [==============================] - 6s 127us/sample - loss: 0.2270 - acc: 0.9156 - val_loss: 0.2979 - val_acc: 0.8966\n",
            "Epoch 34/40\n",
            "48000/48000 [==============================] - 6s 127us/sample - loss: 0.2212 - acc: 0.9167 - val_loss: 0.3032 - val_acc: 0.8982\n",
            "Epoch 35/40\n",
            "48000/48000 [==============================] - 6s 130us/sample - loss: 0.2239 - acc: 0.9151 - val_loss: 0.3031 - val_acc: 0.8957\n",
            "Epoch 36/40\n",
            "48000/48000 [==============================] - 7s 137us/sample - loss: 0.2199 - acc: 0.9159 - val_loss: 0.2999 - val_acc: 0.8957\n",
            "10000/10000 [==============================] - 1s 58us/sample - loss: 0.3194 - acc: 0.8894\n",
            "TRAIN: 48000 Validation: 12000\n",
            "Train on 48000 samples, validate on 12000 samples\n",
            "Epoch 1/40\n",
            "48000/48000 [==============================] - 7s 139us/sample - loss: 0.6495 - acc: 0.7691 - val_loss: 0.4188 - val_acc: 0.8469\n",
            "Epoch 2/40\n",
            "48000/48000 [==============================] - 6s 128us/sample - loss: 0.4493 - acc: 0.8385 - val_loss: 0.3952 - val_acc: 0.8545\n",
            "Epoch 3/40\n",
            "48000/48000 [==============================] - 6s 129us/sample - loss: 0.4041 - acc: 0.8526 - val_loss: 0.3774 - val_acc: 0.8607\n",
            "Epoch 4/40\n",
            "48000/48000 [==============================] - 6s 128us/sample - loss: 0.3820 - acc: 0.8614 - val_loss: 0.3450 - val_acc: 0.8743\n",
            "Epoch 5/40\n",
            "48000/48000 [==============================] - 6s 129us/sample - loss: 0.3627 - acc: 0.8665 - val_loss: 0.3296 - val_acc: 0.8815\n",
            "Epoch 6/40\n",
            "48000/48000 [==============================] - 6s 129us/sample - loss: 0.3494 - acc: 0.8714 - val_loss: 0.3234 - val_acc: 0.8812\n",
            "Epoch 7/40\n",
            "48000/48000 [==============================] - 6s 131us/sample - loss: 0.3358 - acc: 0.8761 - val_loss: 0.3183 - val_acc: 0.8852\n",
            "Epoch 8/40\n",
            "48000/48000 [==============================] - 6s 129us/sample - loss: 0.3250 - acc: 0.8786 - val_loss: 0.3176 - val_acc: 0.8870\n",
            "Epoch 9/40\n",
            "48000/48000 [==============================] - 6s 129us/sample - loss: 0.3177 - acc: 0.8829 - val_loss: 0.3172 - val_acc: 0.8857\n",
            "Epoch 10/40\n",
            "48000/48000 [==============================] - 6s 132us/sample - loss: 0.3069 - acc: 0.8855 - val_loss: 0.3106 - val_acc: 0.8885\n",
            "Epoch 11/40\n",
            "48000/48000 [==============================] - 6s 131us/sample - loss: 0.3026 - acc: 0.8864 - val_loss: 0.3158 - val_acc: 0.8860\n",
            "Epoch 12/40\n",
            "48000/48000 [==============================] - 6s 130us/sample - loss: 0.2954 - acc: 0.8906 - val_loss: 0.3167 - val_acc: 0.8845\n",
            "Epoch 13/40\n",
            "48000/48000 [==============================] - 6s 133us/sample - loss: 0.2889 - acc: 0.8919 - val_loss: 0.3109 - val_acc: 0.8891\n",
            "Epoch 14/40\n",
            "48000/48000 [==============================] - 6s 132us/sample - loss: 0.2862 - acc: 0.8940 - val_loss: 0.3005 - val_acc: 0.8942\n",
            "Epoch 15/40\n",
            "48000/48000 [==============================] - 6s 130us/sample - loss: 0.2812 - acc: 0.8943 - val_loss: 0.3087 - val_acc: 0.8865\n",
            "Epoch 16/40\n",
            "48000/48000 [==============================] - 6s 128us/sample - loss: 0.2734 - acc: 0.8978 - val_loss: 0.3028 - val_acc: 0.8941\n",
            "Epoch 17/40\n",
            "48000/48000 [==============================] - 6s 128us/sample - loss: 0.2702 - acc: 0.9001 - val_loss: 0.2942 - val_acc: 0.8966\n",
            "Epoch 18/40\n",
            "48000/48000 [==============================] - 6s 128us/sample - loss: 0.2702 - acc: 0.8995 - val_loss: 0.3109 - val_acc: 0.8923\n",
            "Epoch 19/40\n",
            "48000/48000 [==============================] - 6s 128us/sample - loss: 0.2641 - acc: 0.9010 - val_loss: 0.3006 - val_acc: 0.8945\n",
            "Epoch 20/40\n",
            "48000/48000 [==============================] - 6s 127us/sample - loss: 0.2608 - acc: 0.9006 - val_loss: 0.2974 - val_acc: 0.8950\n",
            "Epoch 21/40\n",
            "48000/48000 [==============================] - 6s 124us/sample - loss: 0.2578 - acc: 0.9030 - val_loss: 0.2993 - val_acc: 0.8953\n",
            "Epoch 22/40\n",
            "48000/48000 [==============================] - 6s 126us/sample - loss: 0.2532 - acc: 0.9051 - val_loss: 0.2909 - val_acc: 0.9004\n",
            "Epoch 23/40\n",
            "48000/48000 [==============================] - 6s 126us/sample - loss: 0.2487 - acc: 0.9064 - val_loss: 0.3016 - val_acc: 0.8964\n",
            "Epoch 24/40\n",
            "48000/48000 [==============================] - 6s 127us/sample - loss: 0.2469 - acc: 0.9065 - val_loss: 0.2971 - val_acc: 0.8984\n",
            "Epoch 25/40\n",
            "48000/48000 [==============================] - 6s 127us/sample - loss: 0.2453 - acc: 0.9068 - val_loss: 0.3164 - val_acc: 0.8930\n",
            "Epoch 26/40\n",
            "48000/48000 [==============================] - 6s 129us/sample - loss: 0.2425 - acc: 0.9085 - val_loss: 0.2981 - val_acc: 0.8988\n",
            "Epoch 27/40\n",
            "48000/48000 [==============================] - 7s 137us/sample - loss: 0.2386 - acc: 0.9098 - val_loss: 0.2970 - val_acc: 0.8938\n",
            "Epoch 28/40\n",
            "48000/48000 [==============================] - 6s 131us/sample - loss: 0.2337 - acc: 0.9120 - val_loss: 0.3139 - val_acc: 0.8933\n",
            "Epoch 29/40\n",
            "48000/48000 [==============================] - 6s 133us/sample - loss: 0.2341 - acc: 0.9107 - val_loss: 0.3008 - val_acc: 0.8984\n",
            "Epoch 30/40\n",
            "48000/48000 [==============================] - 6s 126us/sample - loss: 0.2329 - acc: 0.9134 - val_loss: 0.2963 - val_acc: 0.9007\n",
            "Epoch 31/40\n",
            "48000/48000 [==============================] - 6s 126us/sample - loss: 0.2292 - acc: 0.9144 - val_loss: 0.2950 - val_acc: 0.9025\n",
            "Epoch 32/40\n",
            "48000/48000 [==============================] - 6s 134us/sample - loss: 0.2272 - acc: 0.9130 - val_loss: 0.3028 - val_acc: 0.8980\n",
            "10000/10000 [==============================] - 1s 60us/sample - loss: 0.3235 - acc: 0.8883\n",
            "TRAIN: 48000 Validation: 12000\n",
            "Train on 48000 samples, validate on 12000 samples\n",
            "Epoch 1/40\n",
            "48000/48000 [==============================] - 7s 145us/sample - loss: 0.6422 - acc: 0.7713 - val_loss: 0.4352 - val_acc: 0.8399\n",
            "Epoch 2/40\n",
            "48000/48000 [==============================] - 6s 134us/sample - loss: 0.4474 - acc: 0.8395 - val_loss: 0.3898 - val_acc: 0.8547\n",
            "Epoch 3/40\n",
            "48000/48000 [==============================] - 7s 139us/sample - loss: 0.4023 - acc: 0.8540 - val_loss: 0.3657 - val_acc: 0.8683\n",
            "Epoch 4/40\n",
            "48000/48000 [==============================] - 7s 136us/sample - loss: 0.3771 - acc: 0.8624 - val_loss: 0.3501 - val_acc: 0.8744\n",
            "Epoch 5/40\n",
            "48000/48000 [==============================] - 7s 136us/sample - loss: 0.3615 - acc: 0.8668 - val_loss: 0.3399 - val_acc: 0.8748\n",
            "Epoch 6/40\n",
            "48000/48000 [==============================] - 6s 132us/sample - loss: 0.3452 - acc: 0.8732 - val_loss: 0.3434 - val_acc: 0.8758\n",
            "Epoch 7/40\n",
            "48000/48000 [==============================] - 6s 131us/sample - loss: 0.3341 - acc: 0.8760 - val_loss: 0.3390 - val_acc: 0.8787\n",
            "Epoch 8/40\n",
            "48000/48000 [==============================] - 6s 133us/sample - loss: 0.3232 - acc: 0.8799 - val_loss: 0.3181 - val_acc: 0.8852\n",
            "Epoch 9/40\n",
            "48000/48000 [==============================] - 6s 135us/sample - loss: 0.3177 - acc: 0.8818 - val_loss: 0.3149 - val_acc: 0.8844\n",
            "Epoch 10/40\n",
            "48000/48000 [==============================] - 6s 132us/sample - loss: 0.3086 - acc: 0.8850 - val_loss: 0.3240 - val_acc: 0.8816\n",
            "Epoch 11/40\n",
            "48000/48000 [==============================] - 7s 145us/sample - loss: 0.3016 - acc: 0.8878 - val_loss: 0.3238 - val_acc: 0.8801\n",
            "Epoch 12/40\n",
            "48000/48000 [==============================] - 6s 134us/sample - loss: 0.2951 - acc: 0.8900 - val_loss: 0.3116 - val_acc: 0.8866\n",
            "Epoch 13/40\n",
            "48000/48000 [==============================] - 6s 130us/sample - loss: 0.2902 - acc: 0.8921 - val_loss: 0.3107 - val_acc: 0.8904\n",
            "Epoch 14/40\n",
            "48000/48000 [==============================] - 6s 129us/sample - loss: 0.2853 - acc: 0.8936 - val_loss: 0.3125 - val_acc: 0.8867\n",
            "Epoch 15/40\n",
            "48000/48000 [==============================] - 6s 130us/sample - loss: 0.2794 - acc: 0.8956 - val_loss: 0.3160 - val_acc: 0.8846\n",
            "Epoch 16/40\n",
            "48000/48000 [==============================] - 6s 127us/sample - loss: 0.2764 - acc: 0.8972 - val_loss: 0.3116 - val_acc: 0.8888\n",
            "Epoch 17/40\n",
            "48000/48000 [==============================] - 6s 127us/sample - loss: 0.2711 - acc: 0.8983 - val_loss: 0.3005 - val_acc: 0.8893\n",
            "Epoch 18/40\n",
            "48000/48000 [==============================] - 6s 128us/sample - loss: 0.2640 - acc: 0.9005 - val_loss: 0.3054 - val_acc: 0.8905\n",
            "Epoch 19/40\n",
            "48000/48000 [==============================] - 6s 129us/sample - loss: 0.2616 - acc: 0.9010 - val_loss: 0.3059 - val_acc: 0.8907\n",
            "Epoch 20/40\n",
            "48000/48000 [==============================] - 6s 129us/sample - loss: 0.2575 - acc: 0.9039 - val_loss: 0.3205 - val_acc: 0.8879\n",
            "Epoch 21/40\n",
            "48000/48000 [==============================] - 6s 128us/sample - loss: 0.2555 - acc: 0.9048 - val_loss: 0.2961 - val_acc: 0.8958\n",
            "Epoch 22/40\n",
            "48000/48000 [==============================] - 6s 129us/sample - loss: 0.2520 - acc: 0.9041 - val_loss: 0.3012 - val_acc: 0.8925\n",
            "Epoch 23/40\n",
            "48000/48000 [==============================] - 6s 129us/sample - loss: 0.2483 - acc: 0.9069 - val_loss: 0.3047 - val_acc: 0.8944\n",
            "Epoch 24/40\n",
            "48000/48000 [==============================] - 6s 128us/sample - loss: 0.2431 - acc: 0.9094 - val_loss: 0.3113 - val_acc: 0.8928\n",
            "Epoch 25/40\n",
            "48000/48000 [==============================] - 6s 129us/sample - loss: 0.2439 - acc: 0.9083 - val_loss: 0.3099 - val_acc: 0.8942\n",
            "Epoch 26/40\n",
            "48000/48000 [==============================] - 6s 129us/sample - loss: 0.2377 - acc: 0.9106 - val_loss: 0.3140 - val_acc: 0.8947\n",
            "Epoch 27/40\n",
            "48000/48000 [==============================] - 6s 130us/sample - loss: 0.2368 - acc: 0.9107 - val_loss: 0.3005 - val_acc: 0.8962\n",
            "Epoch 28/40\n",
            "48000/48000 [==============================] - 6s 129us/sample - loss: 0.2360 - acc: 0.9117 - val_loss: 0.3048 - val_acc: 0.8907\n",
            "Epoch 29/40\n",
            "48000/48000 [==============================] - 6s 130us/sample - loss: 0.2321 - acc: 0.9115 - val_loss: 0.2921 - val_acc: 0.8948\n",
            "Epoch 30/40\n",
            "48000/48000 [==============================] - 6s 132us/sample - loss: 0.2328 - acc: 0.9123 - val_loss: 0.3024 - val_acc: 0.8950\n",
            "Epoch 31/40\n",
            "48000/48000 [==============================] - 6s 130us/sample - loss: 0.2281 - acc: 0.9141 - val_loss: 0.3122 - val_acc: 0.8928\n",
            "Epoch 32/40\n",
            "48000/48000 [==============================] - 6s 132us/sample - loss: 0.2258 - acc: 0.9144 - val_loss: 0.3164 - val_acc: 0.8928\n",
            "Epoch 33/40\n",
            "48000/48000 [==============================] - 6s 131us/sample - loss: 0.2219 - acc: 0.9160 - val_loss: 0.3121 - val_acc: 0.8927\n",
            "Epoch 34/40\n",
            "48000/48000 [==============================] - 6s 130us/sample - loss: 0.2189 - acc: 0.9179 - val_loss: 0.3090 - val_acc: 0.8930\n",
            "Epoch 35/40\n",
            "48000/48000 [==============================] - 6s 131us/sample - loss: 0.2206 - acc: 0.9165 - val_loss: 0.3047 - val_acc: 0.8961\n",
            "Epoch 36/40\n",
            "48000/48000 [==============================] - 6s 128us/sample - loss: 0.2157 - acc: 0.9185 - val_loss: 0.3039 - val_acc: 0.8972\n",
            "Epoch 37/40\n",
            "48000/48000 [==============================] - 6s 132us/sample - loss: 0.2126 - acc: 0.9202 - val_loss: 0.3235 - val_acc: 0.8935\n",
            "Epoch 38/40\n",
            "48000/48000 [==============================] - 6s 131us/sample - loss: 0.2130 - acc: 0.9191 - val_loss: 0.3165 - val_acc: 0.8937\n",
            "Epoch 39/40\n",
            "48000/48000 [==============================] - 7s 141us/sample - loss: 0.2139 - acc: 0.9190 - val_loss: 0.3015 - val_acc: 0.8977\n",
            "10000/10000 [==============================] - 1s 62us/sample - loss: 0.3210 - acc: 0.8879\n"
          ],
          "name": "stdout"
        }
      ]
    },
    {
      "metadata": {
        "id": "-vXOp4iWrlO-",
        "colab_type": "code",
        "outputId": "e9b4efe8-415f-49e7-c592-444580ee3be4",
        "colab": {
          "base_uri": "https://localhost:8080/",
          "height": 122
        }
      },
      "cell_type": "code",
      "source": [
        "for i in range(len(test_preds)):\n",
        "  print(\"{}th Model: loss={} accuracy={}\".format(i,log_loss(test_labels,test_preds[i]),accuracy_score(test_labels,np.argmax(test_preds[i],axis=1))))\n",
        "\n",
        "kfold_test_preds = np.average(np.array(test_preds),axis=0)\n",
        "print(\"KFold Average Model: loss={} accuracy={}\".format(log_loss(test_labels,kfold_test_preds),accuracy_score(test_labels,np.argmax(kfold_test_preds,axis=1))))"
      ],
      "execution_count": 15,
      "outputs": [
        {
          "output_type": "stream",
          "text": [
            "0th Model: loss=0.3212256893149229 accuracy=0.886\n",
            "1th Model: loss=0.32108393190566814 accuracy=0.8878\n",
            "2th Model: loss=0.3205704803523238 accuracy=0.8894\n",
            "3th Model: loss=0.3238184029274046 accuracy=0.8883\n",
            "4th Model: loss=0.322831092272229 accuracy=0.8879\n",
            "KFold Average Model: loss=0.28889486623470273 accuracy=0.8965\n"
          ],
          "name": "stdout"
        }
      ]
    },
    {
      "metadata": {
        "id": "CXmGvo-hIYBE",
        "colab_type": "text"
      },
      "cell_type": "markdown",
      "source": [
        "Plot history"
      ]
    },
    {
      "metadata": {
        "id": "eI-2kRsGIavy",
        "colab_type": "code",
        "colab": {
          "base_uri": "https://localhost:8080/",
          "height": 312
        },
        "outputId": "58390d95-1be2-4083-e371-a1976b564053"
      },
      "cell_type": "code",
      "source": [
        "for i in range(len(train_history)):\n",
        "  history = train_history[i]\n",
        "  plt.plot(range(len(history.history['val_loss'])), history.history['val_loss'], label=\"validation loss {}\".format(i))\n",
        "\n",
        "plt.xlabel(\"num epochs\")\n",
        "plt.ylabel(\"loss\")\n",
        "plt.title(\"Validation loss\")\n",
        "plt.legend()"
      ],
      "execution_count": 13,
      "outputs": [
        {
          "output_type": "execute_result",
          "data": {
            "text/plain": [
              "<matplotlib.legend.Legend at 0x7f9b67eb27f0>"
            ]
          },
          "metadata": {
            "tags": []
          },
          "execution_count": 13
        },
        {
          "output_type": "display_data",
          "data": {
            "image/png": "[encoded data removed]",
            "text/plain": [
              "<Figure size 432x288 with 1 Axes>"
            ]
          },
          "metadata": {
            "tags": []
          }
        }
      ]
    }
  ]
}