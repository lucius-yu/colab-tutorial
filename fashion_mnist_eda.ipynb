{
  "nbformat": 4,
  "nbformat_minor": 0,
  "metadata": {
    "colab": {
      "name": "Untitled1.ipynb",
      "version": "0.3.2",
      "provenance": [],
      "include_colab_link": true
    },
    "kernelspec": {
      "name": "python3",
      "display_name": "Python 3"
    }
  },
  "cells": [
    {
      "cell_type": "markdown",
      "metadata": {
        "id": "view-in-github",
        "colab_type": "text"
      },
      "source": [
        "<a href=\"https://colab.research.google.com/github/lucius-yu/colab-tutorial/blob/master/fashion_mnist_eda.ipynb\" target=\"_parent\"><img src=\"https://colab.research.google.com/assets/colab-badge.svg\" alt=\"Open In Colab\"/></a>"
      ]
    },
    {
      "metadata": {
        "id": "dYlYDourgEMI",
        "colab_type": "text"
      },
      "cell_type": "markdown",
      "source": [
        "load the fashion mnist data. which contains 10 classes of images. There are 60000 training images and 10000 test images. Image size are 28x28 pixels"
      ]
    },
    {
      "metadata": {
        "id": "OH0OjHE_gJUg",
        "colab_type": "code",
        "outputId": "c551e278-a9d4-46f7-d80f-373b29aad009",
        "colab": {
          "base_uri": "https://localhost:8080/",
          "height": 87
        }
      },
      "cell_type": "code",
      "source": [
        "import tensorflow as tf\n",
        "import numpy as np\n",
        "\n",
        "mnist = tf.keras.datasets.fashion_mnist\n",
        "\n",
        "# load train and test images\n",
        "(training_images, training_labels), (test_images, test_labels) = mnist.load_data()\n",
        "\n",
        "print(training_images.shape)\n",
        "print(test_images.shape)\n",
        "\n",
        "print(\"min value of pixel : {}\".format(np.min(training_images[0])))\n",
        "print(\"max value of pixel : {}\".format(np.max(training_images[0])))"
      ],
      "execution_count": 4,
      "outputs": [
        {
          "output_type": "stream",
          "text": [
            "(60000, 28, 28)\n",
            "(10000, 28, 28)\n",
            "min value of pixel : 0\n",
            "max value of pixel : 255\n"
          ],
          "name": "stdout"
        }
      ]
    },
    {
      "metadata": {
        "id": "evhZyQzj8feE",
        "colab_type": "text"
      },
      "cell_type": "markdown",
      "source": [
        "show the first images and label"
      ]
    },
    {
      "metadata": {
        "id": "zlFxI2Lh8lMs",
        "colab_type": "code",
        "colab": {
          "base_uri": "https://localhost:8080/",
          "height": 287
        },
        "outputId": "f4fc3857-8b47-48c1-c057-d5c5d90e412d"
      },
      "cell_type": "code",
      "source": [
        "import matplotlib.pyplot as plt\n",
        "\n",
        "plt.imshow(training_images[5])\n",
        "print(training_labels[5])"
      ],
      "execution_count": 8,
      "outputs": [
        {
          "output_type": "stream",
          "text": [
            "2\n"
          ],
          "name": "stdout"
        },
        {
          "output_type": "display_data",
          "data": {
            "image/png": "[encoded data removed]",
            "text/plain": [
              "<Figure size 432x288 with 1 Axes>"
            ]
          },
          "metadata": {
            "tags": []
          }
        }
      ]
    }
  ]
}