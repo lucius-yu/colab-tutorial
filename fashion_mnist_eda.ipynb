{
  "nbformat": 4,
  "nbformat_minor": 0,
  "metadata": {
    "colab": {
      "name": "Untitled1.ipynb",
      "version": "0.3.2",
      "provenance": [],
      "include_colab_link": true
    },
    "kernelspec": {
      "name": "python3",
      "display_name": "Python 3"
    }
  },
  "cells": [
    {
      "cell_type": "markdown",
      "metadata": {
        "id": "view-in-github",
        "colab_type": "text"
      },
      "source": [
        "<a href=\"https://colab.research.google.com/github/lucius-yu/colab-tutorial/blob/master/HelloWorld.ipynb\" target=\"_parent\"><img src=\"https://colab.research.google.com/assets/colab-badge.svg\" alt=\"Open In Colab\"/></a>"
      ]
    },
    {
      "metadata": {
        "id": "dYlYDourgEMI",
        "colab_type": "text"
      },
      "cell_type": "markdown",
      "source": [
        "Build a neural network that predicts the price of a house according to a simple formula. House price is 50k + 50k * number_of_bedroom. We scale down the price and use million as unit. So, the relation for house price y with number of bedroom x is y=0.5*x + 0.5"
      ]
    },
    {
      "metadata": {
        "id": "OH0OjHE_gJUg",
        "colab_type": "code",
        "colab": {
          "base_uri": "https://localhost:8080/",
          "height": 1794
        },
        "outputId": "bb968772-4765-4c10-d887-a22576424365"
      },
      "cell_type": "code",
      "source": [
        "import tensorflow as tf\n",
        "import numpy as np\n",
        "from tensorflow import keras\n",
        "model = keras.Sequential()\n",
        "model.add(keras.layers.Dense(units=1, input_shape=(1,)))\n",
        "model.compile(optimizer='sgd', loss='mse')\n",
        "xs = np.array([1.0, 2.0, 3.0, 5.0])\n",
        "ys = np.array([1.0, 1.5, 2.0, 3.0])\n",
        "model.fit(xs, ys, epochs=50)\n",
        "print(model.predict([7.0]))"
      ],
      "execution_count": 6,
      "outputs": [
        {
          "output_type": "stream",
          "text": [
            "Epoch 1/50\n",
            "4/4 [==============================] - 0s 30ms/sample - loss: 44.1094\n",
            "Epoch 2/50\n",
            "4/4 [==============================] - 0s 1ms/sample - loss: 27.4698\n",
            "Epoch 3/50\n",
            "4/4 [==============================] - 0s 477us/sample - loss: 17.1074\n",
            "Epoch 4/50\n",
            "4/4 [==============================] - 0s 504us/sample - loss: 10.6541\n",
            "Epoch 5/50\n",
            "4/4 [==============================] - 0s 475us/sample - loss: 6.6353\n",
            "Epoch 6/50\n",
            "4/4 [==============================] - 0s 276us/sample - loss: 4.1325\n",
            "Epoch 7/50\n",
            "4/4 [==============================] - 0s 343us/sample - loss: 2.5739\n",
            "Epoch 8/50\n",
            "4/4 [==============================] - 0s 424us/sample - loss: 1.6033\n",
            "Epoch 9/50\n",
            "4/4 [==============================] - 0s 262us/sample - loss: 0.9988\n",
            "Epoch 10/50\n",
            "4/4 [==============================] - 0s 398us/sample - loss: 0.6224\n",
            "Epoch 11/50\n",
            "4/4 [==============================] - 0s 369us/sample - loss: 0.3879\n",
            "Epoch 12/50\n",
            "4/4 [==============================] - 0s 434us/sample - loss: 0.2419\n",
            "Epoch 13/50\n",
            "4/4 [==============================] - 0s 1ms/sample - loss: 0.1510\n",
            "Epoch 14/50\n",
            "4/4 [==============================] - 0s 458us/sample - loss: 0.0944\n",
            "Epoch 15/50\n",
            "4/4 [==============================] - 0s 262us/sample - loss: 0.0591\n",
            "Epoch 16/50\n",
            "4/4 [==============================] - 0s 329us/sample - loss: 0.0371\n",
            "Epoch 17/50\n",
            "4/4 [==============================] - 0s 294us/sample - loss: 0.0234\n",
            "Epoch 18/50\n",
            "4/4 [==============================] - 0s 339us/sample - loss: 0.0149\n",
            "Epoch 19/50\n",
            "4/4 [==============================] - 0s 309us/sample - loss: 0.0096\n",
            "Epoch 20/50\n",
            "4/4 [==============================] - 0s 260us/sample - loss: 0.0063\n",
            "Epoch 21/50\n",
            "4/4 [==============================] - 0s 614us/sample - loss: 0.0042\n",
            "Epoch 22/50\n",
            "4/4 [==============================] - 0s 652us/sample - loss: 0.0029\n",
            "Epoch 23/50\n",
            "4/4 [==============================] - 0s 558us/sample - loss: 0.0021\n",
            "Epoch 24/50\n",
            "4/4 [==============================] - 0s 637us/sample - loss: 0.0016\n",
            "Epoch 25/50\n",
            "4/4 [==============================] - 0s 341us/sample - loss: 0.0013\n",
            "Epoch 26/50\n",
            "4/4 [==============================] - 0s 420us/sample - loss: 0.0011\n",
            "Epoch 27/50\n",
            "4/4 [==============================] - 0s 453us/sample - loss: 9.9657e-04\n",
            "Epoch 28/50\n",
            "4/4 [==============================] - 0s 445us/sample - loss: 9.1524e-04\n",
            "Epoch 29/50\n",
            "4/4 [==============================] - 0s 730us/sample - loss: 8.6214e-04\n",
            "Epoch 30/50\n",
            "4/4 [==============================] - 0s 373us/sample - loss: 8.2666e-04\n",
            "Epoch 31/50\n",
            "4/4 [==============================] - 0s 534us/sample - loss: 8.0216e-04\n",
            "Epoch 32/50\n",
            "4/4 [==============================] - 0s 513us/sample - loss: 7.8453e-04\n",
            "Epoch 33/50\n",
            "4/4 [==============================] - 0s 376us/sample - loss: 7.7118e-04\n",
            "Epoch 34/50\n",
            "4/4 [==============================] - 0s 539us/sample - loss: 7.6053e-04\n",
            "Epoch 35/50\n",
            "4/4 [==============================] - 0s 553us/sample - loss: 7.5158e-04\n",
            "Epoch 36/50\n",
            "4/4 [==============================] - 0s 630us/sample - loss: 7.4370e-04\n",
            "Epoch 37/50\n",
            "4/4 [==============================] - 0s 343us/sample - loss: 7.3651e-04\n",
            "Epoch 38/50\n",
            "4/4 [==============================] - 0s 340us/sample - loss: 7.2977e-04\n",
            "Epoch 39/50\n",
            "4/4 [==============================] - 0s 620us/sample - loss: 7.2333e-04\n",
            "Epoch 40/50\n",
            "4/4 [==============================] - 0s 389us/sample - loss: 7.1709e-04\n",
            "Epoch 41/50\n",
            "4/4 [==============================] - 0s 578us/sample - loss: 7.1099e-04\n",
            "Epoch 42/50\n",
            "4/4 [==============================] - 0s 336us/sample - loss: 7.0501e-04\n",
            "Epoch 43/50\n",
            "4/4 [==============================] - 0s 552us/sample - loss: 6.9911e-04\n",
            "Epoch 44/50\n",
            "4/4 [==============================] - 0s 249us/sample - loss: 6.9328e-04\n",
            "Epoch 45/50\n",
            "4/4 [==============================] - 0s 391us/sample - loss: 6.8752e-04\n",
            "Epoch 46/50\n",
            "4/4 [==============================] - 0s 360us/sample - loss: 6.8181e-04\n",
            "Epoch 47/50\n",
            "4/4 [==============================] - 0s 283us/sample - loss: 6.7615e-04\n",
            "Epoch 48/50\n",
            "4/4 [==============================] - 0s 275us/sample - loss: 6.7054e-04\n",
            "Epoch 49/50\n",
            "4/4 [==============================] - 0s 284us/sample - loss: 6.6499e-04\n",
            "Epoch 50/50\n",
            "4/4 [==============================] - 0s 272us/sample - loss: 6.5948e-04\n",
            "[[3.9450173]]\n"
          ],
          "name": "stdout"
        }
      ]
    }
  ]
}